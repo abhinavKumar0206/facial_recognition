{
 "cells": [
  {
   "cell_type": "code",
   "execution_count": null,
   "id": "d7e83240",
   "metadata": {},
   "outputs": [],
   "source": [
    "# pip install opencv-python==4.5.2\n",
    "\n",
    "import cv2 \n",
    "# from controller import doorAutomate\n",
    "# import time\n",
    "\n",
    "video=cv2.VideoCapture(0)\n",
    "\n",
    "\n",
    "facedetect = cv2.CascadeClassifier(\"C:/Users/ab141/anaconda3/Lib/site-packages/cv2/data/haarcascade_frontalface_default.xml\")\n",
    "\n",
    "recognizer = cv2.face.LBPHFaceRecognizer_create()\n",
    "recognizer.read(\"C:/Users/ab141/Desktop/mini project/Untitled Folder/FacialRecognitionProject/trainer/Trainer.yml\")\n",
    "\n",
    "name_list = [\"\",\"Abhinav\",\"Om\",\"Aditya\",\"Op sir\"]#array strats from zero index and we are at first index\n",
    "\n",
    "imgBackground = cv2.imread(\"C:/Users/ab141/Downloads/13062b7d-537f-40a2-a575-6cdc42f9dfc6.jpeg\")\n",
    "\n",
    "while True:\n",
    "    ret,frame=video.read()\n",
    "    gray=cv2.cvtColor(frame, cv2.COLOR_BGR2GRAY)\n",
    "    faces = facedetect.detectMultiScale(gray, 1.3, 5)\n",
    "    for (x,y,w,h) in faces:\n",
    "        serial, conf = recognizer.predict(gray[y:y+h, x:x+w])\n",
    "#         print(\"Serial:\", serial) \n",
    "        if conf<50:\n",
    "            cv2.rectangle(frame, (x,y), (x+w, y+h), (0,0,255), 1)\n",
    "            cv2.rectangle(frame,(x,y),(x+w,y+h),(50,50,255),2)\n",
    "            cv2.rectangle(frame,(x,y-40),(x+w,y),(50,50,255),-1)\n",
    "            cv2.putText(frame, name_list[serial], (x, y-10),cv2.FONT_HERSHEY_SIMPLEX,0.8,(255,255,255),2)\n",
    "#             cv2.rectangle(frame,(x,y),(x+w,y+h),(50,50,255),1)\n",
    "        else:\n",
    "            cv2.rectangle(frame, (x,y), (x+w, y+h), (0,0,255), 1)\n",
    "            cv2.rectangle(frame,(x,y),(x+w,y+h),(50,50,255),2)\n",
    "            cv2.rectangle(frame,(x,y-40),(x+w,y),(50,50,255),-1)\n",
    "            cv2.putText(frame, \"Unknown\", (x, y-10),cv2.FONT_HERSHEY_SIMPLEX,0.8,(255,255,255),2)\n",
    "#             cv2.rectangle(frame,(x,y),(x+w,y+h),(50,50,255),1)\n",
    "    frame=cv2.resize(frame, (640, 480))\n",
    "    imgBackground[162:162 + 480, 55:55 + 640] = frame\n",
    "    cv2.imshow(\"Frame\",imgBackground)\n",
    "    \n",
    "    k=cv2.waitKey(1)\n",
    "    \n",
    "    if k==ord('o') and conf>50:\n",
    "        doorAutomate(0)\n",
    "        time.sleep(10)\n",
    "        doorAutomate(1)\n",
    "    if k==ord(\"q\"):\n",
    "        break\n",
    "\n",
    "video.release()\n",
    "cv2.destroyAllWindows()"
   ]
  },
  {
   "cell_type": "code",
   "execution_count": null,
   "id": "c2ca0819",
   "metadata": {},
   "outputs": [],
   "source": []
  }
 ],
 "metadata": {
  "kernelspec": {
   "display_name": "Python 3 (ipykernel)",
   "language": "python",
   "name": "python3"
  },
  "language_info": {
   "codemirror_mode": {
    "name": "ipython",
    "version": 3
   },
   "file_extension": ".py",
   "mimetype": "text/x-python",
   "name": "python",
   "nbconvert_exporter": "python",
   "pygments_lexer": "ipython3",
   "version": "3.9.12"
  }
 },
 "nbformat": 4,
 "nbformat_minor": 5
}
