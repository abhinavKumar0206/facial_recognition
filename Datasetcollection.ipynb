{
 "cells": [
  {
   "cell_type": "code",
   "execution_count": null,
   "id": "57236a84",
   "metadata": {},
   "outputs": [],
   "source": [
    "# pip install opencv-python==4.5.2\n",
    "\n",
    "import cv2 \n",
    "\n",
    "video=cv2.VideoCapture(\"test.mp4\")\n",
    "\n",
    "facedetect = cv2.CascadeClassifier(\"C:/Users/ab141/anaconda3/Lib/site-packages/cv2/data/haarcascade_frontalface_default.xml\")\n",
    "\n",
    "id = input(\"Enter Your ID: \")\n",
    "# id = int(id)\n",
    "count=0\n",
    "\n",
    "while True:\n",
    "    ret,frame=video.read()\n",
    "    gray=cv2.cvtColor(frame, cv2.COLOR_BGR2GRAY)\n",
    "    faces = facedetect.detectMultiScale(gray, 1.3, 5)\n",
    "    for (x,y,w,h) in faces:\n",
    "        count=count+1\n",
    "        cv2.imwrite('datasets/User.'+str(id)+\".\"+str(count)+\".jpg\", gray[y:y+h, x:x+w])\n",
    "        cv2.rectangle(frame, (x,y), (x+w, y+h), (50,50,255), 1)\n",
    "\n",
    "    cv2.imshow(\"Frame\",frame)\n",
    "\n",
    "    k=cv2.waitKey(1)\n",
    "\n",
    "    if count>500:\n",
    "        break\n",
    "\n",
    "video.release()\n",
    "cv2.destroyAllWindows()\n",
    "print(\"Dataset Collection Done..................\")"
   ]
  },
  {
   "cell_type": "code",
   "execution_count": null,
   "id": "429aaedd",
   "metadata": {},
   "outputs": [],
   "source": [
    "import cv2\n",
    "video=cv2.VideoCapture(0)\n",
    "while True:\n",
    "    "
   ]
  }
 ],
 "metadata": {
  "kernelspec": {
   "display_name": "Python 3 (ipykernel)",
   "language": "python",
   "name": "python3"
  },
  "language_info": {
   "codemirror_mode": {
    "name": "ipython",
    "version": 3
   },
   "file_extension": ".py",
   "mimetype": "text/x-python",
   "name": "python",
   "nbconvert_exporter": "python",
   "pygments_lexer": "ipython3",
   "version": "3.9.12"
  }
 },
 "nbformat": 4,
 "nbformat_minor": 5
}
