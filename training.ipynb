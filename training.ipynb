{
 "cells": [
  {
   "cell_type": "code",
   "execution_count": null,
   "id": "2843e204",
   "metadata": {},
   "outputs": [],
   "source": [
    "import cv2\n",
    "import numpy as np\n",
    "from PIL import Image\n",
    "import os\n",
    "\n",
    "recognizer = cv2.face.LBPHFaceRecognizer_create()\n",
    "\n",
    "path=\"C:/Users/ab141/Desktop/mini project/Submission/Dataset\"\n",
    "\n",
    "def getImageID(path):\n",
    "    imagePath = [os.path.join(path, f) for f in os.listdir(path)]\n",
    "    faces=[]\n",
    "    ids=[]\n",
    "    for imagePaths in imagePath:\n",
    "        faceImage = Image.open(imagePaths).convert('L')\n",
    "        faceNP = np.array(faceImage)\n",
    "        Id= (os.path.split(imagePaths)[-1].split(\".\")[1])\n",
    "        Id=int(Id)\n",
    "        faces.append(faceNP)\n",
    "        ids.append(Id)\n",
    "        cv2.imshow(\"Training\",faceNP)\n",
    "        cv2.waitKey(1)\n",
    "    return ids, faces\n",
    "\n",
    "IDs, facedata = getImageID(path)\n",
    "recognizer.train(facedata, np.array(IDs))\n",
    "recognizer.write(\"Trainer.yml\")\n",
    "cv2.destroyAllWindows()\n",
    "print(\"Training Completed............\")"
   ]
  },
  {
   "cell_type": "code",
   "execution_count": null,
   "id": "be6f977e",
   "metadata": {},
   "outputs": [],
   "source": []
  }
 ],
 "metadata": {
  "kernelspec": {
   "display_name": "Python 3 (ipykernel)",
   "language": "python",
   "name": "python3"
  },
  "language_info": {
   "codemirror_mode": {
    "name": "ipython",
    "version": 3
   },
   "file_extension": ".py",
   "mimetype": "text/x-python",
   "name": "python",
   "nbconvert_exporter": "python",
   "pygments_lexer": "ipython3",
   "version": "3.9.12"
  }
 },
 "nbformat": 4,
 "nbformat_minor": 5
}
